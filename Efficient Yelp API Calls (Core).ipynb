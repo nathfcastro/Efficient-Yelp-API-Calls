{
 "cells": [
  {
   "cell_type": "markdown",
   "id": "ac0c78be",
   "metadata": {},
   "source": [
    "# Efficient Yelp API Calls (Core)\n",
    "Student Name: Nathalie Castro"
   ]
  },
  {
   "cell_type": "code",
   "execution_count": 29,
   "id": "eba43897",
   "metadata": {},
   "outputs": [],
   "source": [
    "# Standard Imports\n",
    "import numpy as np\n",
    "import pandas as pd\n",
    "import matplotlib.pyplot as plt\n",
    "import seaborn as sns\n",
    "# Additional Imports\n",
    "import os, json, math, time\n",
    "from yelpapi import YelpAPI\n",
    "from tqdm.notebook import tqdm_notebook"
   ]
  },
  {
   "cell_type": "code",
   "execution_count": 27,
   "id": "653fabdb",
   "metadata": {},
   "outputs": [
    {
     "name": "stdout",
     "output_type": "stream",
     "text": [
      "Requirement already satisfied: simplejson in c:\\users\\castr\\anaconda3\\envs\\dojo-env\\lib\\site-packages (3.19.1)\n"
     ]
    }
   ],
   "source": [
    "!pip install simplejson"
   ]
  },
  {
   "cell_type": "code",
   "execution_count": 30,
   "id": "783dd3a9",
   "metadata": {},
   "outputs": [
    {
     "name": "stdout",
     "output_type": "stream",
     "text": [
      "Requirement already satisfied: tqdm in c:\\users\\castr\\anaconda3\\envs\\dojo-env\\lib\\site-packages (4.64.1)\n",
      "Requirement already satisfied: colorama in c:\\users\\castr\\anaconda3\\envs\\dojo-env\\lib\\site-packages (from tqdm) (0.4.5)\n"
     ]
    }
   ],
   "source": [
    "# Install tmdbsimple (only need to run once)\n",
    "!pip install tqdm"
   ]
  },
  {
   "cell_type": "code",
   "execution_count": 31,
   "id": "4d7d5ea9",
   "metadata": {},
   "outputs": [],
   "source": [
    "# Load API Credentials\n",
    "with open('/Users/castr/.secret/yelp_api.json') as f:\n",
    "    login = json.load(f)\n",
    "# Instantiate YelpAPI Variable\n",
    "yelp_api = YelpAPI(login['api-key'], timeout_s=5.0)"
   ]
  },
  {
   "cell_type": "code",
   "execution_count": 32,
   "id": "3fbc95d9",
   "metadata": {},
   "outputs": [],
   "source": [
    "# set our API call parameters \n",
    "LOCATION = 'Chicago,IL'\n",
    "TERM = 'Taco'"
   ]
  },
  {
   "cell_type": "code",
   "execution_count": 33,
   "id": "06ead907",
   "metadata": {},
   "outputs": [
    {
     "data": {
      "text/plain": [
       "'Data/results_in_progress_chi_taco.json'"
      ]
     },
     "execution_count": 33,
     "metadata": {},
     "output_type": "execute_result"
    }
   ],
   "source": [
    "# Specifying JSON_FILE filename (can include a folder)\n",
    "# include the search terms in the filename\n",
    "JSON_FILE = \"Data/results_in_progress_chi_taco.json\"\n",
    "JSON_FILE"
   ]
  },
  {
   "cell_type": "code",
   "execution_count": 34,
   "id": "6b0236e9",
   "metadata": {},
   "outputs": [
    {
     "name": "stdout",
     "output_type": "stream",
     "text": [
      "[i] Data/results_in_progress_chi_taco.json not found. Saving empty list to file.\n"
     ]
    }
   ],
   "source": [
    "## Check if JSON_FILE exists\n",
    "file_exists = os.path.isfile(JSON_FILE)\n",
    "## If it does not exist: \n",
    "if file_exists == False:\n",
    "    \n",
    "    ## CREATE ANY NEEDED FOLDERS\n",
    "    # Get the Folder Name only\n",
    "    folder = os.path.dirname(JSON_FILE)\n",
    "    ## If JSON_FILE included a folder:\n",
    "    if len(folder)>0:\n",
    "        # create the folder\n",
    "        os.makedirs(folder,exist_ok=True)\n",
    "        \n",
    "        \n",
    "    ## INFORM USER AND SAVE EMPTY LIST\n",
    "    print(f'[i] {JSON_FILE} not found. Saving empty list to file.')\n",
    "    \n",
    "    \n",
    "    # save an empty list\n",
    "    with open(JSON_FILE,'w') as f:\n",
    "        json.dump([],f)  \n",
    "# If it exists, inform user\n",
    "else:\n",
    "    print(f\"[i] {JSON_FILE} already exists.\")"
   ]
  },
  {
   "cell_type": "code",
   "execution_count": 35,
   "id": "b87beaae",
   "metadata": {},
   "outputs": [
    {
     "name": "stdout",
     "output_type": "stream",
     "text": [
      "- 0 previous results found.\n"
     ]
    }
   ],
   "source": [
    "## Load previous results and use len of results for offset\n",
    "with open(JSON_FILE,'r') as f:\n",
    "    previous_results = json.load(f)\n",
    "    \n",
    "## set offset based on previous results\n",
    "n_results = len(previous_results)\n",
    "print(f'- {n_results} previous results found.')"
   ]
  },
  {
   "cell_type": "code",
   "execution_count": 36,
   "id": "f5f6e3a4",
   "metadata": {},
   "outputs": [
    {
     "data": {
      "text/plain": [
       "dict_keys(['businesses', 'total', 'region'])"
      ]
     },
     "execution_count": 36,
     "metadata": {},
     "output_type": "execute_result"
    }
   ],
   "source": [
    "# use our yelp_api variable's search_query method to perform our API call\n",
    "results = yelp_api.search_query(location=LOCATION,\n",
    "                                term=TERM,\n",
    "                               offset=n_results)\n",
    "results.keys()"
   ]
  },
  {
   "cell_type": "code",
   "execution_count": 37,
   "id": "acdc5128",
   "metadata": {},
   "outputs": [
    {
     "data": {
      "text/plain": [
       "7200"
      ]
     },
     "execution_count": 37,
     "metadata": {},
     "output_type": "execute_result"
    }
   ],
   "source": [
    "## How many results total?\n",
    "total_results = results['total']\n",
    "total_results"
   ]
  },
  {
   "cell_type": "code",
   "execution_count": 38,
   "id": "a1826c57",
   "metadata": {},
   "outputs": [
    {
     "data": {
      "text/plain": [
       "20"
      ]
     },
     "execution_count": 38,
     "metadata": {},
     "output_type": "execute_result"
    }
   ],
   "source": [
    "## How many did we get the details for?\n",
    "results_per_page = len(results['businesses'])\n",
    "results_per_page"
   ]
  },
  {
   "cell_type": "code",
   "execution_count": 39,
   "id": "60cf02d4",
   "metadata": {},
   "outputs": [
    {
     "data": {
      "text/plain": [
       "360"
      ]
     },
     "execution_count": 39,
     "metadata": {},
     "output_type": "execute_result"
    }
   ],
   "source": [
    "# Import additional packages for controlling our loop\n",
    "import time, math\n",
    "# Use math.ceil to round up for the total number of pages of results.\n",
    "n_pages = math.ceil((results['total']-n_results)/ results_per_page)\n",
    "n_pages"
   ]
  },
  {
   "cell_type": "code",
   "execution_count": 40,
   "id": "663132a3",
   "metadata": {},
   "outputs": [],
   "source": [
    "# join new results with old list with extend and save to file\n",
    "previous_results.extend(results['businesses'])  \n",
    "with open(JSON_FILE,'w') as f:\n",
    "     json.dump(previous_results,f)"
   ]
  },
  {
   "cell_type": "code",
   "execution_count": 41,
   "id": "678b5a52",
   "metadata": {},
   "outputs": [
    {
     "name": "stdout",
     "output_type": "stream",
     "text": [
      "Requirement already satisfied: tqdm in c:\\users\\castr\\anaconda3\\envs\\dojo-env\\lib\\site-packages (4.64.1)\n",
      "Requirement already satisfied: colorama in c:\\users\\castr\\anaconda3\\envs\\dojo-env\\lib\\site-packages (from tqdm) (0.4.5)\n",
      "Note: you may need to restart the kernel to use updated packages.\n"
     ]
    }
   ],
   "source": [
    "pip install tqdm"
   ]
  },
  {
   "cell_type": "code",
   "execution_count": 42,
   "id": "9b955ebf",
   "metadata": {},
   "outputs": [
    {
     "data": {
      "application/vnd.jupyter.widget-view+json": {
       "model_id": "fd5552a3a0554393af741b08a2574cc8",
       "version_major": 2,
       "version_minor": 0
      },
      "text/plain": [
       "  0%|          | 0/360 [00:00<?, ?it/s]"
      ]
     },
     "metadata": {},
     "output_type": "display_data"
    }
   ],
   "source": [
    "from tqdm.notebook import tqdm_notebook\n",
    "import time\n",
    "for i in tqdm_notebook(range(n_pages)):\n",
    "    # adds 200 ms pause\n",
    "    time.sleep(.2) "
   ]
  },
  {
   "cell_type": "code",
   "execution_count": 56,
   "id": "0d865f4a",
   "metadata": {},
   "outputs": [],
   "source": [
    "def create_json_file(JSON_FILE,  delete_if_exists=False):\n",
    "    \n",
    "    ## Check if JSON_FILE exists\n",
    "    file_exists = os.path.isfile(JSON_FILE)\n",
    "    \n",
    "    ## If it DOES exist:\n",
    "    if file_exists == True:\n",
    "        \n",
    "        ## Check if user wants to delete if exists\n",
    "        if delete_if_exists==True:\n",
    "            \n",
    "            print(f\"[!] {JSON_FILE} already exists. Deleting previous file...\")\n",
    "            ## delete file and confirm it no longer exits.\n",
    "            os.remove(JSON_FILE)\n",
    "            ## Recursive call to function after old file deleted\n",
    "            create_json_file(JSON_FILE,delete_if_exists=False)\n",
    "        else:\n",
    "            print(f\"[i] {JSON_FILE} already exists.\")            \n",
    "            \n",
    "            \n",
    "    ## If it does NOT exist:\n",
    "    else:\n",
    "        \n",
    "        ## INFORM USER AND SAVE EMPTY LIST\n",
    "        print(f\"[i] {JSON_FILE} not found. Saving empty list to new file.\")\n",
    "        \n",
    "        ## CREATE ANY NEEDED FOLDERS\n",
    "        # Get the Folder Name only\n",
    "        folder = os.path.dirname(JSON_FILE)\n",
    "        \n",
    "        ## If JSON_FILE included a folder:\n",
    "        if len(folder)>0:\n",
    "            # create the folder\n",
    "            os.makedirs(folder,exist_ok=True)\n",
    "        ## Save empty list to start the json file\n",
    "        with open(JSON_FILE,'w') as f:\n",
    "            json.dump([],f) "
   ]
  },
  {
   "cell_type": "code",
   "execution_count": 57,
   "id": "2a2cb1b6",
   "metadata": {},
   "outputs": [
    {
     "name": "stdout",
     "output_type": "stream",
     "text": [
      "[i] Data/results_in_progress_chi_taco.json not found. Saving empty list to new file.\n",
      "- 0 previous results found.\n"
     ]
    },
    {
     "data": {
      "text/plain": [
       "360"
      ]
     },
     "execution_count": 57,
     "metadata": {},
     "output_type": "execute_result"
    }
   ],
   "source": [
    "## Create a new empty json file (exist the previous if it exists)\n",
    "create_json_file(JSON_FILE, delete_if_exists=True)\n",
    "## Load previous results and use len of results for offset\n",
    "with open(JSON_FILE,'r') as f:\n",
    "    previous_results = json.load(f)\n",
    "    \n",
    "## set offset based on previous results\n",
    "n_results = len(previous_results)\n",
    "print(f'- {n_results} previous results found.')\n",
    "# use our yelp_api variable's search_query method to perform our API call\n",
    "results = yelp_api.search_query(location=LOCATION,\n",
    "                                term=TERM,\n",
    "                               offset=n_results)\n",
    "## How many results total?\n",
    "total_results = results['total']\n",
    "## How many did we get the details for?\n",
    "results_per_page = len(results['businesses'])\n",
    "# Use math.ceil to round up for the total number of pages of results.\n",
    "n_pages = math.ceil((results['total']-n_results)/ results_per_page)\n",
    "n_pages"
   ]
  },
  {
   "cell_type": "code",
   "execution_count": 58,
   "id": "c13792e6",
   "metadata": {},
   "outputs": [
    {
     "data": {
      "application/vnd.jupyter.widget-view+json": {
       "model_id": "a033dae85caf4992857933fc5e1ffcb0",
       "version_major": 2,
       "version_minor": 0
      },
      "text/plain": [
       "  0%|          | 0/360 [00:00<?, ?it/s]"
      ]
     },
     "metadata": {},
     "output_type": "display_data"
    },
    {
     "name": "stdout",
     "output_type": "stream",
     "text": [
      "Exceeded 1000 api calls. Stopping loop.\n"
     ]
    }
   ],
   "source": [
    "for i in tqdm_notebook( range(1,n_pages+1)):\n",
    "    \n",
    "    ## Read in results in progress file and check the length\n",
    "    with open(JSON_FILE, 'r') as f:\n",
    "        previous_results = json.load(f)\n",
    "    ## save number of results for to use as offset\n",
    "    n_results = len(previous_results)\n",
    "    \n",
    "    if (n_results + results_per_page) > 1000:\n",
    "        print('Exceeded 1000 api calls. Stopping loop.')\n",
    "        break\n",
    "    \n",
    "    ## use n_results as the OFFSET \n",
    "    results = yelp_api.search_query(location=LOCATION,\n",
    "                                    term=TERM, \n",
    "                                    offset=n_results)\n",
    "    \n",
    "    \n",
    "    \n",
    "    ## append new results and save to file\n",
    "    previous_results.extend(results['businesses'])\n",
    "    \n",
    "    # display(previous_results)\n",
    "    with open(JSON_FILE,'w') as f:\n",
    "        json.dump(previous_results,f)\n",
    "    \n",
    "    time.sleep(.2)"
   ]
  },
  {
   "cell_type": "code",
   "execution_count": 59,
   "id": "152b7d55",
   "metadata": {},
   "outputs": [
    {
     "data": {
      "text/html": [
       "<div>\n",
       "<style scoped>\n",
       "    .dataframe tbody tr th:only-of-type {\n",
       "        vertical-align: middle;\n",
       "    }\n",
       "\n",
       "    .dataframe tbody tr th {\n",
       "        vertical-align: top;\n",
       "    }\n",
       "\n",
       "    .dataframe thead th {\n",
       "        text-align: right;\n",
       "    }\n",
       "</style>\n",
       "<table border=\"1\" class=\"dataframe\">\n",
       "  <thead>\n",
       "    <tr style=\"text-align: right;\">\n",
       "      <th></th>\n",
       "      <th>id</th>\n",
       "      <th>alias</th>\n",
       "      <th>name</th>\n",
       "      <th>image_url</th>\n",
       "      <th>is_closed</th>\n",
       "      <th>url</th>\n",
       "      <th>review_count</th>\n",
       "      <th>categories</th>\n",
       "      <th>rating</th>\n",
       "      <th>coordinates</th>\n",
       "      <th>transactions</th>\n",
       "      <th>price</th>\n",
       "      <th>location</th>\n",
       "      <th>phone</th>\n",
       "      <th>display_phone</th>\n",
       "      <th>distance</th>\n",
       "    </tr>\n",
       "  </thead>\n",
       "  <tbody>\n",
       "    <tr>\n",
       "      <th>0</th>\n",
       "      <td>-HqkUZg3tu-ZAV1RhdzXHQ</td>\n",
       "      <td>tacotlan-chicago</td>\n",
       "      <td>Tacotlan</td>\n",
       "      <td>https://s3-media3.fl.yelpcdn.com/bphoto/7bAgkw...</td>\n",
       "      <td>False</td>\n",
       "      <td>https://www.yelp.com/biz/tacotlan-chicago?adju...</td>\n",
       "      <td>269</td>\n",
       "      <td>[{'alias': 'mexican', 'title': 'Mexican'}, {'a...</td>\n",
       "      <td>4.5</td>\n",
       "      <td>{'latitude': 41.92469, 'longitude': -87.73466}</td>\n",
       "      <td>[delivery, pickup]</td>\n",
       "      <td>$$</td>\n",
       "      <td>{'address1': '4312 W Fullerton Ave', 'address2...</td>\n",
       "      <td>+17736665259</td>\n",
       "      <td>(773) 666-5259</td>\n",
       "      <td>10300.582947</td>\n",
       "    </tr>\n",
       "    <tr>\n",
       "      <th>1</th>\n",
       "      <td>L12zP2yCgoKm_NLwW_HIDw</td>\n",
       "      <td>quesabirria-jalisco-chicago-9</td>\n",
       "      <td>Quesabirria Jalisco</td>\n",
       "      <td>https://s3-media3.fl.yelpcdn.com/bphoto/F7yhgt...</td>\n",
       "      <td>False</td>\n",
       "      <td>https://www.yelp.com/biz/quesabirria-jalisco-c...</td>\n",
       "      <td>15</td>\n",
       "      <td>[{'alias': 'tacos', 'title': 'Tacos'}, {'alias...</td>\n",
       "      <td>5.0</td>\n",
       "      <td>{'latitude': 41.85803128798182, 'longitude': -...</td>\n",
       "      <td>[delivery, pickup]</td>\n",
       "      <td>$$</td>\n",
       "      <td>{'address1': '1314 W 18th St', 'address2': '',...</td>\n",
       "      <td>+17737712123</td>\n",
       "      <td>(773) 771-2123</td>\n",
       "      <td>6613.300176</td>\n",
       "    </tr>\n",
       "    <tr>\n",
       "      <th>2</th>\n",
       "      <td>kdIJtpWmVhGDsgGyOyhzKg</td>\n",
       "      <td>birrieria-zaragoza-chicago</td>\n",
       "      <td>Birrieria Zaragoza</td>\n",
       "      <td>https://s3-media2.fl.yelpcdn.com/bphoto/bdWcX3...</td>\n",
       "      <td>False</td>\n",
       "      <td>https://www.yelp.com/biz/birrieria-zaragoza-ch...</td>\n",
       "      <td>615</td>\n",
       "      <td>[{'alias': 'mexican', 'title': 'Mexican'}]</td>\n",
       "      <td>4.5</td>\n",
       "      <td>{'latitude': 41.80447, 'longitude': -87.72385}</td>\n",
       "      <td>[delivery, pickup]</td>\n",
       "      <td>$$</td>\n",
       "      <td>{'address1': '4852 S Pulaski Rd', 'address2': ...</td>\n",
       "      <td>+17735233700</td>\n",
       "      <td>(773) 523-3700</td>\n",
       "      <td>3123.759159</td>\n",
       "    </tr>\n",
       "    <tr>\n",
       "      <th>3</th>\n",
       "      <td>YE4rhvPRtsr_NwahV48amg</td>\n",
       "      <td>tacos-el-pastor-53-chicago</td>\n",
       "      <td>Tacos El Pastor 53</td>\n",
       "      <td>https://s3-media2.fl.yelpcdn.com/bphoto/vXCILf...</td>\n",
       "      <td>False</td>\n",
       "      <td>https://www.yelp.com/biz/tacos-el-pastor-53-ch...</td>\n",
       "      <td>40</td>\n",
       "      <td>[{'alias': 'tacos', 'title': 'Tacos'}]</td>\n",
       "      <td>4.0</td>\n",
       "      <td>{'latitude': 41.79915, 'longitude': -87.58363}</td>\n",
       "      <td>[delivery, pickup]</td>\n",
       "      <td>$$</td>\n",
       "      <td>{'address1': '5319 S Hyde Park Blvd', 'address...</td>\n",
       "      <td>+18722447498</td>\n",
       "      <td>(872) 244-7498</td>\n",
       "      <td>12773.368820</td>\n",
       "    </tr>\n",
       "    <tr>\n",
       "      <th>4</th>\n",
       "      <td>UBkrWseQzMo9qTPynYu-sQ</td>\n",
       "      <td>taqueria-los-altos-de-jalisco-cicero</td>\n",
       "      <td>Taqueria Los Altos De Jalisco</td>\n",
       "      <td>https://s3-media1.fl.yelpcdn.com/bphoto/r3yzb9...</td>\n",
       "      <td>False</td>\n",
       "      <td>https://www.yelp.com/biz/taqueria-los-altos-de...</td>\n",
       "      <td>28</td>\n",
       "      <td>[{'alias': 'mexican', 'title': 'Mexican'}]</td>\n",
       "      <td>4.5</td>\n",
       "      <td>{'latitude': 41.8540458679199, 'longitude': -8...</td>\n",
       "      <td>[delivery, pickup]</td>\n",
       "      <td>$</td>\n",
       "      <td>{'address1': '1922 S Cicero Ave', 'address2': ...</td>\n",
       "      <td>+17086565130</td>\n",
       "      <td>(708) 656-5130</td>\n",
       "      <td>2688.465721</td>\n",
       "    </tr>\n",
       "  </tbody>\n",
       "</table>\n",
       "</div>"
      ],
      "text/plain": [
       "                       id                                 alias  \\\n",
       "0  -HqkUZg3tu-ZAV1RhdzXHQ                      tacotlan-chicago   \n",
       "1  L12zP2yCgoKm_NLwW_HIDw         quesabirria-jalisco-chicago-9   \n",
       "2  kdIJtpWmVhGDsgGyOyhzKg            birrieria-zaragoza-chicago   \n",
       "3  YE4rhvPRtsr_NwahV48amg            tacos-el-pastor-53-chicago   \n",
       "4  UBkrWseQzMo9qTPynYu-sQ  taqueria-los-altos-de-jalisco-cicero   \n",
       "\n",
       "                            name  \\\n",
       "0                       Tacotlan   \n",
       "1            Quesabirria Jalisco   \n",
       "2             Birrieria Zaragoza   \n",
       "3             Tacos El Pastor 53   \n",
       "4  Taqueria Los Altos De Jalisco   \n",
       "\n",
       "                                           image_url  is_closed  \\\n",
       "0  https://s3-media3.fl.yelpcdn.com/bphoto/7bAgkw...      False   \n",
       "1  https://s3-media3.fl.yelpcdn.com/bphoto/F7yhgt...      False   \n",
       "2  https://s3-media2.fl.yelpcdn.com/bphoto/bdWcX3...      False   \n",
       "3  https://s3-media2.fl.yelpcdn.com/bphoto/vXCILf...      False   \n",
       "4  https://s3-media1.fl.yelpcdn.com/bphoto/r3yzb9...      False   \n",
       "\n",
       "                                                 url  review_count  \\\n",
       "0  https://www.yelp.com/biz/tacotlan-chicago?adju...           269   \n",
       "1  https://www.yelp.com/biz/quesabirria-jalisco-c...            15   \n",
       "2  https://www.yelp.com/biz/birrieria-zaragoza-ch...           615   \n",
       "3  https://www.yelp.com/biz/tacos-el-pastor-53-ch...            40   \n",
       "4  https://www.yelp.com/biz/taqueria-los-altos-de...            28   \n",
       "\n",
       "                                          categories  rating  \\\n",
       "0  [{'alias': 'mexican', 'title': 'Mexican'}, {'a...     4.5   \n",
       "1  [{'alias': 'tacos', 'title': 'Tacos'}, {'alias...     5.0   \n",
       "2         [{'alias': 'mexican', 'title': 'Mexican'}]     4.5   \n",
       "3             [{'alias': 'tacos', 'title': 'Tacos'}]     4.0   \n",
       "4         [{'alias': 'mexican', 'title': 'Mexican'}]     4.5   \n",
       "\n",
       "                                         coordinates        transactions  \\\n",
       "0     {'latitude': 41.92469, 'longitude': -87.73466}  [delivery, pickup]   \n",
       "1  {'latitude': 41.85803128798182, 'longitude': -...  [delivery, pickup]   \n",
       "2     {'latitude': 41.80447, 'longitude': -87.72385}  [delivery, pickup]   \n",
       "3     {'latitude': 41.79915, 'longitude': -87.58363}  [delivery, pickup]   \n",
       "4  {'latitude': 41.8540458679199, 'longitude': -8...  [delivery, pickup]   \n",
       "\n",
       "  price                                           location         phone  \\\n",
       "0    $$  {'address1': '4312 W Fullerton Ave', 'address2...  +17736665259   \n",
       "1    $$  {'address1': '1314 W 18th St', 'address2': '',...  +17737712123   \n",
       "2    $$  {'address1': '4852 S Pulaski Rd', 'address2': ...  +17735233700   \n",
       "3    $$  {'address1': '5319 S Hyde Park Blvd', 'address...  +18722447498   \n",
       "4     $  {'address1': '1922 S Cicero Ave', 'address2': ...  +17086565130   \n",
       "\n",
       "    display_phone      distance  \n",
       "0  (773) 666-5259  10300.582947  \n",
       "1  (773) 771-2123   6613.300176  \n",
       "2  (773) 523-3700   3123.759159  \n",
       "3  (872) 244-7498  12773.368820  \n",
       "4  (708) 656-5130   2688.465721  "
      ]
     },
     "metadata": {},
     "output_type": "display_data"
    },
    {
     "data": {
      "text/html": [
       "<div>\n",
       "<style scoped>\n",
       "    .dataframe tbody tr th:only-of-type {\n",
       "        vertical-align: middle;\n",
       "    }\n",
       "\n",
       "    .dataframe tbody tr th {\n",
       "        vertical-align: top;\n",
       "    }\n",
       "\n",
       "    .dataframe thead th {\n",
       "        text-align: right;\n",
       "    }\n",
       "</style>\n",
       "<table border=\"1\" class=\"dataframe\">\n",
       "  <thead>\n",
       "    <tr style=\"text-align: right;\">\n",
       "      <th></th>\n",
       "      <th>id</th>\n",
       "      <th>alias</th>\n",
       "      <th>name</th>\n",
       "      <th>image_url</th>\n",
       "      <th>is_closed</th>\n",
       "      <th>url</th>\n",
       "      <th>review_count</th>\n",
       "      <th>categories</th>\n",
       "      <th>rating</th>\n",
       "      <th>coordinates</th>\n",
       "      <th>transactions</th>\n",
       "      <th>price</th>\n",
       "      <th>location</th>\n",
       "      <th>phone</th>\n",
       "      <th>display_phone</th>\n",
       "      <th>distance</th>\n",
       "    </tr>\n",
       "  </thead>\n",
       "  <tbody>\n",
       "    <tr>\n",
       "      <th>995</th>\n",
       "      <td>kLp9aQ-1ihul0ygTFjJEeA</td>\n",
       "      <td>marias-kitchen-manteno</td>\n",
       "      <td>Maria's Kitchen</td>\n",
       "      <td>https://s3-media4.fl.yelpcdn.com/bphoto/WtIti1...</td>\n",
       "      <td>False</td>\n",
       "      <td>https://www.yelp.com/biz/marias-kitchen-manten...</td>\n",
       "      <td>14</td>\n",
       "      <td>[{'alias': 'burgers', 'title': 'Burgers'}, {'a...</td>\n",
       "      <td>4.0</td>\n",
       "      <td>{'latitude': 41.2507248, 'longitude': -87.8315...</td>\n",
       "      <td>[delivery]</td>\n",
       "      <td>$</td>\n",
       "      <td>{'address1': '200 N Locust St', 'address2': ''...</td>\n",
       "      <td>+18154683208</td>\n",
       "      <td>(815) 468-3208</td>\n",
       "      <td>65168.267336</td>\n",
       "    </tr>\n",
       "    <tr>\n",
       "      <th>996</th>\n",
       "      <td>yu9_Y4Szsf3KAe_5qRpnBA</td>\n",
       "      <td>la-mera-mera-taqueria-libertyville-2</td>\n",
       "      <td>La Mera Mera Taqueria</td>\n",
       "      <td>https://s3-media4.fl.yelpcdn.com/bphoto/LxKNoe...</td>\n",
       "      <td>False</td>\n",
       "      <td>https://www.yelp.com/biz/la-mera-mera-taqueria...</td>\n",
       "      <td>27</td>\n",
       "      <td>[{'alias': 'mexican', 'title': 'Mexican'}]</td>\n",
       "      <td>5.0</td>\n",
       "      <td>{'latitude': 42.2600314, 'longitude': -87.9473...</td>\n",
       "      <td>[]</td>\n",
       "      <td>NaN</td>\n",
       "      <td>{'address1': '1428 S Milwaukee Ave', 'address2...</td>\n",
       "      <td>+12245135590</td>\n",
       "      <td>(224) 513-5590</td>\n",
       "      <td>50826.563909</td>\n",
       "    </tr>\n",
       "    <tr>\n",
       "      <th>997</th>\n",
       "      <td>5d_VUo7AMd5YF7XR0-_jvw</td>\n",
       "      <td>el-ranchito-chicago-6</td>\n",
       "      <td>El Ranchito</td>\n",
       "      <td>https://s3-media1.fl.yelpcdn.com/bphoto/mchmbp...</td>\n",
       "      <td>False</td>\n",
       "      <td>https://www.yelp.com/biz/el-ranchito-chicago-6...</td>\n",
       "      <td>65</td>\n",
       "      <td>[{'alias': 'mexican', 'title': 'Mexican'}]</td>\n",
       "      <td>1.5</td>\n",
       "      <td>{'latitude': 41.920255, 'longitude': -87.775396}</td>\n",
       "      <td>[pickup, delivery]</td>\n",
       "      <td>$$</td>\n",
       "      <td>{'address1': '5959 W Grand Ave', 'address2': '...</td>\n",
       "      <td>+17737458010</td>\n",
       "      <td>(773) 745-8010</td>\n",
       "      <td>10470.052549</td>\n",
       "    </tr>\n",
       "    <tr>\n",
       "      <th>998</th>\n",
       "      <td>tL3lslj3Ji9YQvK9yVjLqg</td>\n",
       "      <td>bryannas-restaurant-and-bar-chicago-3</td>\n",
       "      <td>BryAnnas Restaurant &amp; Bar</td>\n",
       "      <td>https://s3-media4.fl.yelpcdn.com/bphoto/S2juI8...</td>\n",
       "      <td>False</td>\n",
       "      <td>https://www.yelp.com/biz/bryannas-restaurant-a...</td>\n",
       "      <td>103</td>\n",
       "      <td>[{'alias': 'salvadoran', 'title': 'Salvadoran'}]</td>\n",
       "      <td>4.0</td>\n",
       "      <td>{'latitude': 41.985118, 'longitude': -87.697985}</td>\n",
       "      <td>[pickup, restaurant_reservation, delivery]</td>\n",
       "      <td>$$</td>\n",
       "      <td>{'address1': '5695 N Lincoln Ave', 'address2':...</td>\n",
       "      <td>+18722085599</td>\n",
       "      <td>(872) 208-5599</td>\n",
       "      <td>17243.645744</td>\n",
       "    </tr>\n",
       "    <tr>\n",
       "      <th>999</th>\n",
       "      <td>8knHg1Bbalunt-fAzWym4A</td>\n",
       "      <td>taqueria-el-toreo-bensenville</td>\n",
       "      <td>Taqueria EL Toreo</td>\n",
       "      <td>https://s3-media3.fl.yelpcdn.com/bphoto/MST5kS...</td>\n",
       "      <td>False</td>\n",
       "      <td>https://www.yelp.com/biz/taqueria-el-toreo-ben...</td>\n",
       "      <td>9</td>\n",
       "      <td>[{'alias': 'mexican', 'title': 'Mexican'}]</td>\n",
       "      <td>3.5</td>\n",
       "      <td>{'latitude': 41.9311466, 'longitude': -87.9478...</td>\n",
       "      <td>[delivery]</td>\n",
       "      <td>$</td>\n",
       "      <td>{'address1': '217 W Grand Ave', 'address2': ''...</td>\n",
       "      <td>+16308600405</td>\n",
       "      <td>(630) 860-0405</td>\n",
       "      <td>21099.677658</td>\n",
       "    </tr>\n",
       "  </tbody>\n",
       "</table>\n",
       "</div>"
      ],
      "text/plain": [
       "                         id                                  alias  \\\n",
       "995  kLp9aQ-1ihul0ygTFjJEeA                 marias-kitchen-manteno   \n",
       "996  yu9_Y4Szsf3KAe_5qRpnBA   la-mera-mera-taqueria-libertyville-2   \n",
       "997  5d_VUo7AMd5YF7XR0-_jvw                  el-ranchito-chicago-6   \n",
       "998  tL3lslj3Ji9YQvK9yVjLqg  bryannas-restaurant-and-bar-chicago-3   \n",
       "999  8knHg1Bbalunt-fAzWym4A          taqueria-el-toreo-bensenville   \n",
       "\n",
       "                          name  \\\n",
       "995            Maria's Kitchen   \n",
       "996      La Mera Mera Taqueria   \n",
       "997                El Ranchito   \n",
       "998  BryAnnas Restaurant & Bar   \n",
       "999          Taqueria EL Toreo   \n",
       "\n",
       "                                             image_url  is_closed  \\\n",
       "995  https://s3-media4.fl.yelpcdn.com/bphoto/WtIti1...      False   \n",
       "996  https://s3-media4.fl.yelpcdn.com/bphoto/LxKNoe...      False   \n",
       "997  https://s3-media1.fl.yelpcdn.com/bphoto/mchmbp...      False   \n",
       "998  https://s3-media4.fl.yelpcdn.com/bphoto/S2juI8...      False   \n",
       "999  https://s3-media3.fl.yelpcdn.com/bphoto/MST5kS...      False   \n",
       "\n",
       "                                                   url  review_count  \\\n",
       "995  https://www.yelp.com/biz/marias-kitchen-manten...            14   \n",
       "996  https://www.yelp.com/biz/la-mera-mera-taqueria...            27   \n",
       "997  https://www.yelp.com/biz/el-ranchito-chicago-6...            65   \n",
       "998  https://www.yelp.com/biz/bryannas-restaurant-a...           103   \n",
       "999  https://www.yelp.com/biz/taqueria-el-toreo-ben...             9   \n",
       "\n",
       "                                            categories  rating  \\\n",
       "995  [{'alias': 'burgers', 'title': 'Burgers'}, {'a...     4.0   \n",
       "996         [{'alias': 'mexican', 'title': 'Mexican'}]     5.0   \n",
       "997         [{'alias': 'mexican', 'title': 'Mexican'}]     1.5   \n",
       "998   [{'alias': 'salvadoran', 'title': 'Salvadoran'}]     4.0   \n",
       "999         [{'alias': 'mexican', 'title': 'Mexican'}]     3.5   \n",
       "\n",
       "                                           coordinates  \\\n",
       "995  {'latitude': 41.2507248, 'longitude': -87.8315...   \n",
       "996  {'latitude': 42.2600314, 'longitude': -87.9473...   \n",
       "997   {'latitude': 41.920255, 'longitude': -87.775396}   \n",
       "998   {'latitude': 41.985118, 'longitude': -87.697985}   \n",
       "999  {'latitude': 41.9311466, 'longitude': -87.9478...   \n",
       "\n",
       "                                   transactions price  \\\n",
       "995                                  [delivery]     $   \n",
       "996                                          []   NaN   \n",
       "997                          [pickup, delivery]    $$   \n",
       "998  [pickup, restaurant_reservation, delivery]    $$   \n",
       "999                                  [delivery]     $   \n",
       "\n",
       "                                              location         phone  \\\n",
       "995  {'address1': '200 N Locust St', 'address2': ''...  +18154683208   \n",
       "996  {'address1': '1428 S Milwaukee Ave', 'address2...  +12245135590   \n",
       "997  {'address1': '5959 W Grand Ave', 'address2': '...  +17737458010   \n",
       "998  {'address1': '5695 N Lincoln Ave', 'address2':...  +18722085599   \n",
       "999  {'address1': '217 W Grand Ave', 'address2': ''...  +16308600405   \n",
       "\n",
       "      display_phone      distance  \n",
       "995  (815) 468-3208  65168.267336  \n",
       "996  (224) 513-5590  50826.563909  \n",
       "997  (773) 745-8010  10470.052549  \n",
       "998  (872) 208-5599  17243.645744  \n",
       "999  (630) 860-0405  21099.677658  "
      ]
     },
     "metadata": {},
     "output_type": "display_data"
    }
   ],
   "source": [
    "# load final results\n",
    "final_df = pd.read_json(JSON_FILE)\n",
    "display(final_df.head(), final_df.tail())"
   ]
  },
  {
   "cell_type": "code",
   "execution_count": 61,
   "id": "3b5ff0ff",
   "metadata": {},
   "outputs": [
    {
     "data": {
      "text/plain": [
       "3"
      ]
     },
     "execution_count": 61,
     "metadata": {},
     "output_type": "execute_result"
    }
   ],
   "source": [
    "# check for duplicate ID's \n",
    "final_df.duplicated(subset='id').sum()"
   ]
  },
  {
   "cell_type": "code",
   "execution_count": 62,
   "id": "09195c47",
   "metadata": {},
   "outputs": [
    {
     "data": {
      "text/plain": [
       "0"
      ]
     },
     "execution_count": 62,
     "metadata": {},
     "output_type": "execute_result"
    }
   ],
   "source": [
    "## Drop duplicate ids and confirm there are no more duplicates\n",
    "final_df = final_df.drop_duplicates(subset='id')\n",
    "final_df.duplicated(subset='id').sum()"
   ]
  },
  {
   "cell_type": "code",
   "execution_count": 63,
   "id": "d859a02b",
   "metadata": {},
   "outputs": [],
   "source": [
    "# save the final results to a compressed csv\n",
    "final_df.to_csv('Data/final_results_chi_tacos.csv.gz', compression='gzip',index=False)"
   ]
  },
  {
   "cell_type": "code",
   "execution_count": null,
   "id": "e39e616b",
   "metadata": {},
   "outputs": [],
   "source": []
  }
 ],
 "metadata": {
  "kernelspec": {
   "display_name": "Python (dojo-env)",
   "language": "python",
   "name": "dojo-env"
  },
  "language_info": {
   "codemirror_mode": {
    "name": "ipython",
    "version": 3
   },
   "file_extension": ".py",
   "mimetype": "text/x-python",
   "name": "python",
   "nbconvert_exporter": "python",
   "pygments_lexer": "ipython3",
   "version": "3.9.15"
  },
  "toc": {
   "base_numbering": 1,
   "nav_menu": {},
   "number_sections": false,
   "sideBar": true,
   "skip_h1_title": false,
   "title_cell": "Table of Contents",
   "title_sidebar": "Contents",
   "toc_cell": false,
   "toc_position": {},
   "toc_section_display": true,
   "toc_window_display": false
  }
 },
 "nbformat": 4,
 "nbformat_minor": 5
}
